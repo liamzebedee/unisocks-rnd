{
 "cells": [
  {
   "cell_type": "code",
   "execution_count": 31,
   "metadata": {},
   "outputs": [
    {
     "name": "stdout",
     "output_type": "stream",
     "text": [
      "cont  0.1 inf 0.31622776601683794\n",
      "cont  0.1 inf 0.31622776601683794\n",
      "cont  0.1 inf 0.31622776601683794\n",
      "cont  0.1 inf 0.31622776601683794\n",
      "cont  0.1 inf 0.31622776601683794\n",
      "cont  0.1 inf 0.31622776601683794\n",
      "cont  0.1 inf 0.31622776601683794\n",
      "cont  0.1 inf 0.31622776601683794\n",
      "cont  0.1 inf 0.31622776601683794\n",
      "cont  0.1 inf 0.31622776601683794\n",
      "\n",
      "sum     0.9999999999999999\n",
      "pay     10.000000000000002\n",
      "sub     9.000000000000002\n"
     ]
    }
   ],
   "source": [
    "# import sqrt\n",
    "from math import sqrt\n",
    "\n",
    "contributions = [\n",
    "    1.0,\n",
    "    0.3,\n",
    "    9.5,\n",
    "    0.5,\n",
    "    0.1,\n",
    "    0.2,\n",
    "]\n",
    "contributions = [\n",
    "    # an array of 10 elements of 0.1\n",
    "    0.1 for i in range(10)\n",
    "]\n",
    "# sort contributions\n",
    "contributions.sort()\n",
    "\n",
    "# show the influence of each contribution\n",
    "for contribution in contributions:\n",
    "    print(\"cont \", contribution, \"inf\", sqrt(contribution))\n",
    "\n",
    "print()\n",
    "\n",
    "# show the sum of the contributions\n",
    "print(\"sum    \", sum(contributions))\n",
    "\n",
    "# show the sum of the influence of the contributions\n",
    "# print(\"sum inf\", sum([sqrt(contribution) for contribution in contributions]))\n",
    "\n",
    "# show the total payment\n",
    "total_payment = sum([sqrt(x) for x in contributions]) ** 2\n",
    "print(\"pay    \", total_payment)\n",
    "\n",
    "# compute portion of payment which comes from a subsidy pool\n",
    "subsidy = max(total_payment - sum(contributions), 0)\n",
    "print(\"sub    \", subsidy)\n",
    "\n",
    "\n",
    "# In any case where there is more than one contributor, the computed payment is greater than the raw sum of contributions; the difference comes out of a central subsidy pool (eg. if ten people each donate $1, then the sum-of-square-roots is $10, and the square of that is $100, so the subsidy is $90).\n",
    "\n"
   ]
  },
  {
   "cell_type": "code",
   "execution_count": null,
   "metadata": {},
   "outputs": [],
   "source": []
  }
 ],
 "metadata": {
  "kernelspec": {
   "display_name": "Python 3.7.3 ('base')",
   "language": "python",
   "name": "python3"
  },
  "language_info": {
   "codemirror_mode": {
    "name": "ipython",
    "version": 3
   },
   "file_extension": ".py",
   "mimetype": "text/x-python",
   "name": "python",
   "nbconvert_exporter": "python",
   "pygments_lexer": "ipython3",
   "version": "3.7.3"
  },
  "orig_nbformat": 4,
  "vscode": {
   "interpreter": {
    "hash": "8ff6ca6e5880c2c885c445bb41e23cbe452564232b11278f247dbbee662fe7e2"
   }
  }
 },
 "nbformat": 4,
 "nbformat_minor": 2
}
